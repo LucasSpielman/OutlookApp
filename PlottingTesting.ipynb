{
 "cells": [
  {
   "cell_type": "code",
   "execution_count": null,
   "metadata": {},
   "outputs": [],
   "source": []
  },
  {
   "cell_type": "code",
   "execution_count": null,
   "metadata": {},
   "outputs": [
    {
     "data": {
      "text/html": [
       "\n",
       "        <iframe\n",
       "            width=\"100%\"\n",
       "            height=\"650\"\n",
       "            src=\"http://127.0.0.1:8050/\"\n",
       "            frameborder=\"0\"\n",
       "            allowfullscreen\n",
       "            \n",
       "        ></iframe>\n",
       "        "
      ],
      "text/plain": [
       "<IPython.lib.display.IFrame at 0x1b8a89737d0>"
      ]
     },
     "metadata": {},
     "output_type": "display_data"
    }
   ],
   "source": [
    "import geopandas as gpd\n",
    "import pandas as pd\n",
    "\n",
    "# Load the shapefile of Canada\n",
    "canada_shapefile = gpd.read_file('./data/ler_000b16a_e.shp')\n",
    "\n",
    "# Load the job outlook data\n",
    "job_outlook_data = pd.read_excel('./data/20242026_outlook_n21_en_250117.xlsx')\n",
    "\n",
    "canada_shapefile['ERUID'] = canada_shapefile['ERUID'].astype(int)\n",
    "\n",
    "# Merge the data on the region code\n",
    "merged_data = canada_shapefile.merge(job_outlook_data, left_on='ERUID', right_on='Economic Region Code')\n",
    "\n",
    "import dash\n",
    "from dash import dcc, html, Input, Output\n",
    "import plotly.express as px\n",
    "\n",
    "# Initialize the Dash app\n",
    "app = dash.Dash(__name__)\n",
    "\n",
    "# Layout of the app\n",
    "app.layout = html.Div([\n",
    "    dcc.Location(id='url', refresh=False),\n",
    "    html.Div(id='page-content')\n",
    "])\n",
    "\n",
    "# Page 1: Geographical Map\n",
    "page_1_layout = html.Div([\n",
    "    html.H1(\"Job Outlook in Canada\"),\n",
    "    dcc.Graph(id='canada-map')\n",
    "])\n",
    "\n",
    "# Page 2: Specific Job Outlook Plot\n",
    "page_2_layout = html.Div([\n",
    "    html.H1(\"Specific Job Outlook Across Regions\"),\n",
    "    dcc.Dropdown(\n",
    "        id='job-dropdown',\n",
    "        options=[{'label': job, 'value': job} for job in merged_data['NOC Title'].unique()],\n",
    "        value=merged_data['NOC Title'].unique()[0]\n",
    "    ),\n",
    "    dcc.Graph(id='job-outlook-plot')\n",
    "])\n",
    "\n",
    "# Update the page content based on the URL\n",
    "@app.callback(Output('page-content', 'children'),\n",
    "              [Input('url', 'pathname')])\n",
    "def display_page(pathname):\n",
    "    if pathname == '/page-1':\n",
    "        return page_1_layout\n",
    "    elif pathname == '/page-2':\n",
    "        return page_2_layout\n",
    "    else:\n",
    "        return page_1_layout\n",
    "\n",
    "# Callback for the geographical map\n",
    "@app.callback(Output('canada-map', 'figure'),\n",
    "              [Input('url', 'pathname')])\n",
    "def update_map(pathname):\n",
    "    fig = px.choropleth(merged_data,\n",
    "                        geojson=merged_data.geometry,\n",
    "                        locations=merged_data.index,\n",
    "                        color='Outlook',\n",
    "                        hover_name='Economic Region Name',\n",
    "                        projection=\"mercator\")\n",
    "    fig.update_geos(fitbounds=\"locations\", visible=False)\n",
    "    fig.update_layout(margin={\"r\": 0, \"t\": 0, \"l\": 0, \"b\": 0})\n",
    "    return fig\n",
    "\n",
    "# Callback for the specific job outlook plot\n",
    "@app.callback(Output('job-outlook-plot', 'figure'),\n",
    "              [Input('job-dropdown', 'value')])\n",
    "def update_job_outlook_plot(selected_job):\n",
    "    filtered_data = merged_data[merged_data['NOC Title'] == selected_job]\n",
    "    fig = px.bar(filtered_data,\n",
    "                 x='Economic Region Name',\n",
    "                 y='Outlook',\n",
    "                 color='Outlook',\n",
    "                 labels={'Outlook': 'Job Outlook'},\n",
    "                 title=f'Job Outlook for {selected_job} Across Regions')\n",
    "    return fig\n",
    "\n",
    "# Run the app\n",
    "if __name__ == '__main__':\n",
    "    app.run_server(debug=True)"
   ]
  },
  {
   "cell_type": "code",
   "execution_count": null,
   "metadata": {},
   "outputs": [],
   "source": []
  }
 ],
 "metadata": {
  "kernelspec": {
   "display_name": "venv",
   "language": "python",
   "name": "python3"
  },
  "language_info": {
   "codemirror_mode": {
    "name": "ipython",
    "version": 3
   },
   "file_extension": ".py",
   "mimetype": "text/x-python",
   "name": "python",
   "nbconvert_exporter": "python",
   "pygments_lexer": "ipython3",
   "version": "3.11.9"
  }
 },
 "nbformat": 4,
 "nbformat_minor": 2
}
